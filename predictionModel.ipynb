{
 "cells": [
  {
   "cell_type": "code",
   "execution_count": 1,
   "metadata": {},
   "outputs": [],
   "source": [
    "#Daniel Holland\n",
    "#imports libarys\n",
    "import numpy as np\n",
    "import pandas as pd\n",
    "import datetime as dt\n",
    "import matplotlib as plt\n",
    "import matplotlib.pyplot as plt \n",
    "import pandas_datareader as web\n",
    "\n",
    "from sklearn.preprocessing import MinMaxScaler\n",
    "from tensorflow.keras.models import Sequential \n",
    "from tensorflow.keras.layers import Dense, LSTM, Dropout"
   ]
  },
  {
   "cell_type": "code",
   "execution_count": 2,
   "metadata": {},
   "outputs": [
    {
     "name": "stdout",
     "output_type": "stream",
     "text": [
      "Entering the company SPY, will give you a prediction on the S&P 500  \n"
     ]
    }
   ],
   "source": [
    "#gives the user information on the SPY index\n",
    "print(\"Entering the company SPY, will give you a prediction on the S&P 500  \")\n"
   ]
  },
  {
   "cell_type": "code",
   "execution_count": 3,
   "metadata": {},
   "outputs": [
    {
     "name": "stdout",
     "output_type": "stream",
     "text": [
      "enter company ticker symbol: spy\n",
      "data collected\n"
     ]
    }
   ],
   "source": [
    "#asks the user for a company ticker symbol\n",
    "company = input(\"enter company ticker symbol: \")\n",
    "#sets start date\n",
    "start = dt.datetime(2014,1,1)\n",
    "#sets star date\n",
    "end = dt.datetime(2020,1,1,)\n",
    "\n",
    "#creates a loop to ensure data is collected\n",
    "for x in range(1):\n",
    "        try:\n",
    "            df = web.DataReader(company, 'yahoo', start, end)\n",
    "            df.shape\n",
    "            print(\"data collected\")\n",
    "            break\n",
    "        #checks for input error\n",
    "        except KeyError:\n",
    "            print(\"no data from this company was found in 2014\")\n",
    "            False\n",
    "    \n",
    "\n",
    "\n",
    "    \n",
    "    "
   ]
  },
  {
   "cell_type": "code",
   "execution_count": 4,
   "metadata": {},
   "outputs": [
    {
     "name": "stdout",
     "output_type": "stream",
     "text": [
      "The technical indicator being used, is 'close'.\n",
      "The closing price is the last price at which the stock traded during the regular trading day\n"
     ]
    }
   ],
   "source": [
    "#shows information to the user\n",
    "print(\"The technical indicator being used, is 'close'.\\nThe closing price is the last price at which the stock traded during the regular trading day\")"
   ]
  },
  {
   "cell_type": "code",
   "execution_count": 5,
   "metadata": {},
   "outputs": [
    {
     "name": "stdout",
     "output_type": "stream",
     "text": [
      "The algorithm being used is a recurrent neural network, that uses long short-term memory(LSTM)\n",
      "The algorithm uses the last 60 days of data to predict the next day.\n",
      "This predicted day is then used to make the next predicted day and so on.  \n"
     ]
    }
   ],
   "source": [
    "#shows information to the user\n",
    "print(\"The algorithm being used is a recurrent neural network, that uses long short-term memory(LSTM)\\nThe algorithm uses the last 60 days of data to predict the next day.\\nThis predicted day is then used to make the next predicted day and so on.  \")"
   ]
  },
  {
   "cell_type": "code",
   "execution_count": 6,
   "metadata": {},
   "outputs": [
    {
     "data": {
      "text/plain": [
       "(1510, 1)"
      ]
     },
     "execution_count": 6,
     "metadata": {},
     "output_type": "execute_result"
    }
   ],
   "source": [
    "#sets the range to scale the data\n",
    "scaler = MinMaxScaler(feature_range = (0,1))\n",
    "\n",
    "#scales the close data\n",
    "scaled_data = scaler.fit_transform(df['Close'].values.reshape(-1,1))\n",
    "\n",
    "scaled_data.shape\n"
   ]
  },
  {
   "cell_type": "code",
   "execution_count": 7,
   "metadata": {},
   "outputs": [],
   "source": [
    "#sets last_days to 60\n",
    "last_days = 60"
   ]
  },
  {
   "cell_type": "code",
   "execution_count": 8,
   "metadata": {},
   "outputs": [],
   "source": [
    "#creates 2 lists\n",
    "x_train = []\n",
    "y_train = []"
   ]
  },
  {
   "cell_type": "code",
   "execution_count": 9,
   "metadata": {},
   "outputs": [],
   "source": [
    "#creates a loop to retrive the 60 days\n",
    "for x in range(last_days, len(scaled_data)):\n",
    "    #adds them to the list\n",
    "    x_train.append(scaled_data[x-last_days:x, 0])\n",
    "    y_train.append(scaled_data[x, 0])\n",
    "\n"
   ]
  },
  {
   "cell_type": "code",
   "execution_count": 10,
   "metadata": {},
   "outputs": [],
   "source": [
    "#sets the list to arrays\n",
    "x_train, y_train = np.array(x_train), np.array(y_train)\n"
   ]
  },
  {
   "cell_type": "code",
   "execution_count": 11,
   "metadata": {},
   "outputs": [],
   "source": [
    "#reshapes x_train\n",
    "x_train = np.reshape(x_train,(x_train.shape[0], x_train.shape[1], 1))"
   ]
  },
  {
   "cell_type": "code",
   "execution_count": 12,
   "metadata": {},
   "outputs": [],
   "source": [
    "#sets model to sequential\n",
    "model = Sequential()\n",
    "#creates first layer and variables set\n",
    "model.add(LSTM(units = 55,return_sequences = True, input_shape = (x_train.shape[1], 1)))\n",
    "#dropsout set to 0.2\n",
    "model.add(Dropout(0.2))\n",
    "#creates first layer and variables set\n",
    "model.add(LSTM(units = 55,return_sequences = True))\n",
    "#dropsout set to 0.3\n",
    "model.add(Dropout(0.30))\n",
    "\n",
    "#creates first layer and variables set\n",
    "model.add(LSTM(units = 55))\n",
    "#dropsout set to 0.3\n",
    "model.add(Dropout(0.50))\n",
    "#\n",
    "model.add(Dense(units = 1))\n"
   ]
  },
  {
   "cell_type": "code",
   "execution_count": 13,
   "metadata": {},
   "outputs": [],
   "source": [
    "#model compiled\n",
    "model.compile(optimizer = 'adam', loss = 'mean_squared_error')"
   ]
  },
  {
   "cell_type": "code",
   "execution_count": 14,
   "metadata": {},
   "outputs": [
    {
     "name": "stdout",
     "output_type": "stream",
     "text": [
      "Epoch 1/5\n",
      "145/145 [==============================] - 8s 32ms/step - loss: 0.0410\n",
      "Epoch 2/5\n",
      "145/145 [==============================] - 5s 35ms/step - loss: 0.0092\n",
      "Epoch 3/5\n",
      "145/145 [==============================] - 5s 37ms/step - loss: 0.0073\n",
      "Epoch 4/5\n",
      "145/145 [==============================] - 5s 36ms/step - loss: 0.0075\n",
      "Epoch 5/5\n",
      "145/145 [==============================] - 5s 36ms/step - loss: 0.0060\n"
     ]
    },
    {
     "data": {
      "text/plain": [
       "<tensorflow.python.keras.callbacks.History at 0x7f970df62d30>"
      ]
     },
     "execution_count": 14,
     "metadata": {},
     "output_type": "execute_result"
    }
   ],
   "source": [
    "#model was then trained with different paramaters\n",
    "model.fit(x_train, y_train, epochs = 5, batch_size = 10)"
   ]
  },
  {
   "cell_type": "code",
   "execution_count": null,
   "metadata": {},
   "outputs": [],
   "source": []
  },
  {
   "cell_type": "code",
   "execution_count": null,
   "metadata": {},
   "outputs": [],
   "source": []
  },
  {
   "cell_type": "code",
   "execution_count": 15,
   "metadata": {},
   "outputs": [
    {
     "data": {
      "text/html": [
       "<div>\n",
       "<style scoped>\n",
       "    .dataframe tbody tr th:only-of-type {\n",
       "        vertical-align: middle;\n",
       "    }\n",
       "\n",
       "    .dataframe tbody tr th {\n",
       "        vertical-align: top;\n",
       "    }\n",
       "\n",
       "    .dataframe thead th {\n",
       "        text-align: right;\n",
       "    }\n",
       "</style>\n",
       "<table border=\"1\" class=\"dataframe\">\n",
       "  <thead>\n",
       "    <tr style=\"text-align: right;\">\n",
       "      <th></th>\n",
       "      <th>High</th>\n",
       "      <th>Low</th>\n",
       "      <th>Open</th>\n",
       "      <th>Close</th>\n",
       "      <th>Volume</th>\n",
       "      <th>Adj Close</th>\n",
       "    </tr>\n",
       "    <tr>\n",
       "      <th>Date</th>\n",
       "      <th></th>\n",
       "      <th></th>\n",
       "      <th></th>\n",
       "      <th></th>\n",
       "      <th></th>\n",
       "      <th></th>\n",
       "    </tr>\n",
       "  </thead>\n",
       "  <tbody>\n",
       "    <tr>\n",
       "      <th>2020-01-02</th>\n",
       "      <td>324.890015</td>\n",
       "      <td>322.529999</td>\n",
       "      <td>323.540009</td>\n",
       "      <td>324.869995</td>\n",
       "      <td>59151200.0</td>\n",
       "      <td>317.873199</td>\n",
       "    </tr>\n",
       "    <tr>\n",
       "      <th>2020-01-03</th>\n",
       "      <td>323.640015</td>\n",
       "      <td>321.100006</td>\n",
       "      <td>321.160004</td>\n",
       "      <td>322.410004</td>\n",
       "      <td>77709700.0</td>\n",
       "      <td>315.466217</td>\n",
       "    </tr>\n",
       "    <tr>\n",
       "      <th>2020-01-06</th>\n",
       "      <td>323.730011</td>\n",
       "      <td>320.359985</td>\n",
       "      <td>320.489990</td>\n",
       "      <td>323.640015</td>\n",
       "      <td>55653900.0</td>\n",
       "      <td>316.669739</td>\n",
       "    </tr>\n",
       "    <tr>\n",
       "      <th>2020-01-07</th>\n",
       "      <td>323.540009</td>\n",
       "      <td>322.239990</td>\n",
       "      <td>323.019989</td>\n",
       "      <td>322.730011</td>\n",
       "      <td>40496400.0</td>\n",
       "      <td>315.779327</td>\n",
       "    </tr>\n",
       "    <tr>\n",
       "      <th>2020-01-08</th>\n",
       "      <td>325.779999</td>\n",
       "      <td>322.670013</td>\n",
       "      <td>322.940002</td>\n",
       "      <td>324.450012</td>\n",
       "      <td>68296000.0</td>\n",
       "      <td>317.462311</td>\n",
       "    </tr>\n",
       "    <tr>\n",
       "      <th>...</th>\n",
       "      <td>...</td>\n",
       "      <td>...</td>\n",
       "      <td>...</td>\n",
       "      <td>...</td>\n",
       "      <td>...</td>\n",
       "      <td>...</td>\n",
       "    </tr>\n",
       "    <tr>\n",
       "      <th>2021-04-27</th>\n",
       "      <td>418.140015</td>\n",
       "      <td>416.299988</td>\n",
       "      <td>417.929993</td>\n",
       "      <td>417.519989</td>\n",
       "      <td>51303100.0</td>\n",
       "      <td>417.519989</td>\n",
       "    </tr>\n",
       "    <tr>\n",
       "      <th>2021-04-28</th>\n",
       "      <td>419.010010</td>\n",
       "      <td>416.899994</td>\n",
       "      <td>417.809998</td>\n",
       "      <td>417.399994</td>\n",
       "      <td>51238900.0</td>\n",
       "      <td>417.399994</td>\n",
       "    </tr>\n",
       "    <tr>\n",
       "      <th>2021-04-29</th>\n",
       "      <td>420.720001</td>\n",
       "      <td>416.440002</td>\n",
       "      <td>420.320007</td>\n",
       "      <td>420.059998</td>\n",
       "      <td>78544300.0</td>\n",
       "      <td>420.059998</td>\n",
       "    </tr>\n",
       "    <tr>\n",
       "      <th>2021-04-30</th>\n",
       "      <td>418.540009</td>\n",
       "      <td>416.339996</td>\n",
       "      <td>417.630005</td>\n",
       "      <td>417.299988</td>\n",
       "      <td>85448400.0</td>\n",
       "      <td>417.299988</td>\n",
       "    </tr>\n",
       "    <tr>\n",
       "      <th>2021-05-03</th>\n",
       "      <td>419.839996</td>\n",
       "      <td>417.670013</td>\n",
       "      <td>419.429993</td>\n",
       "      <td>418.200012</td>\n",
       "      <td>68073000.0</td>\n",
       "      <td>418.200012</td>\n",
       "    </tr>\n",
       "  </tbody>\n",
       "</table>\n",
       "<p>336 rows × 6 columns</p>\n",
       "</div>"
      ],
      "text/plain": [
       "                  High         Low        Open       Close      Volume  \\\n",
       "Date                                                                     \n",
       "2020-01-02  324.890015  322.529999  323.540009  324.869995  59151200.0   \n",
       "2020-01-03  323.640015  321.100006  321.160004  322.410004  77709700.0   \n",
       "2020-01-06  323.730011  320.359985  320.489990  323.640015  55653900.0   \n",
       "2020-01-07  323.540009  322.239990  323.019989  322.730011  40496400.0   \n",
       "2020-01-08  325.779999  322.670013  322.940002  324.450012  68296000.0   \n",
       "...                ...         ...         ...         ...         ...   \n",
       "2021-04-27  418.140015  416.299988  417.929993  417.519989  51303100.0   \n",
       "2021-04-28  419.010010  416.899994  417.809998  417.399994  51238900.0   \n",
       "2021-04-29  420.720001  416.440002  420.320007  420.059998  78544300.0   \n",
       "2021-04-30  418.540009  416.339996  417.630005  417.299988  85448400.0   \n",
       "2021-05-03  419.839996  417.670013  419.429993  418.200012  68073000.0   \n",
       "\n",
       "             Adj Close  \n",
       "Date                    \n",
       "2020-01-02  317.873199  \n",
       "2020-01-03  315.466217  \n",
       "2020-01-06  316.669739  \n",
       "2020-01-07  315.779327  \n",
       "2020-01-08  317.462311  \n",
       "...                ...  \n",
       "2021-04-27  417.519989  \n",
       "2021-04-28  417.399994  \n",
       "2021-04-29  420.059998  \n",
       "2021-04-30  417.299988  \n",
       "2021-05-03  418.200012  \n",
       "\n",
       "[336 rows x 6 columns]"
      ]
     },
     "execution_count": 15,
     "metadata": {},
     "output_type": "execute_result"
    }
   ],
   "source": [
    "# test data\n",
    "#sets dates\n",
    "start_test = dt.datetime(2020,1,1)\n",
    "end_test = dt.datetime.now()\n",
    "#gets data\n",
    "test_data = web.DataReader(company, 'yahoo', start_test, end_test)\n",
    "\n",
    "test_data"
   ]
  },
  {
   "cell_type": "code",
   "execution_count": 16,
   "metadata": {},
   "outputs": [],
   "source": [
    "#gets only the close data\n",
    "actual_prices = test_data['Close'].values"
   ]
  },
  {
   "cell_type": "code",
   "execution_count": null,
   "metadata": {},
   "outputs": [],
   "source": []
  },
  {
   "cell_type": "code",
   "execution_count": 17,
   "metadata": {},
   "outputs": [],
   "source": [
    "#concats the data\n",
    "total_dataset = pd.concat((df['Close'], test_data['Close']), axis = 0)"
   ]
  },
  {
   "cell_type": "code",
   "execution_count": 18,
   "metadata": {},
   "outputs": [],
   "source": [
    "#further pre-processes test data\n",
    "model_inputs = total_dataset[len(total_dataset) - len(test_data) - last_days:].values"
   ]
  },
  {
   "cell_type": "code",
   "execution_count": 19,
   "metadata": {},
   "outputs": [],
   "source": [
    "#reshapes and scales the data\n",
    "model_inputs = model_inputs.reshape(-1,1)\n",
    "model_inputs = scaler.transform(model_inputs)"
   ]
  },
  {
   "cell_type": "code",
   "execution_count": 20,
   "metadata": {},
   "outputs": [],
   "source": [
    "#creates empty list\n",
    "x_test = []"
   ]
  },
  {
   "cell_type": "code",
   "execution_count": 21,
   "metadata": {},
   "outputs": [],
   "source": [
    "#sets the loop\n",
    "for x in range(last_days, len(model_inputs)):\n",
    "    x_test.append(model_inputs[x-last_days:x, 0])"
   ]
  },
  
  {
   "cell_type": "code",
   "execution_count": 23,
   "metadata": {},
   "outputs": [],
   "source": [
    "#sets as array\n",
    "x_test = np.array(x_test)"
   ]
  },
  {
   "cell_type": "code",
   "execution_count": 25,
   "metadata": {},
   "outputs": [
    {
     "data": {
      "text/plain": [
       "(336, 60, 1)"
      ]
     },
     "execution_count": 25,
     "metadata": {},
     "output_type": "execute_result"
    }
   ],
   "source": [
    "\n",
    "x_test = np.reshape(x_test,(x_test.shape[0], x_test.shape[1],1))\n",
    "x_test.shape"
   ]
  },
  {
   "cell_type": "code",
   "execution_count": 26,
   "metadata": {},
   "outputs": [],
   "source": [
    "#makes the prediction\n",
    "predicted = model.predict(x_test)\n",
    "predicted = scaler.inverse_transform(predicted)\n",
    "\n"
   ]
  },
  {
   "cell_type": "code",
   "execution_count": 27,
   "metadata": {},
   "outputs": [
    {
     "data": {
      "image/png": "[encoded data removed]",
      "text/plain": [
       "<Figure size 432x288 with 1 Axes>"
      ]
     },
     "metadata": {
      "needs_background": "light"
     },
     "output_type": "display_data"
    }
   ],
   "source": [
    "#visulizes the data\n",
    "plt.plot(actual_prices, color='red', label=f\"actual {company} Price\")\n",
    "plt.plot(predicted, color='blue',label=f\"Predicted {company} Price\")\n",
    "plt.title(f\" {company} Share Price\")\n",
    "plt.xlabel('Time')\n",
    "plt.ylabel(f' {company} Share Price')\n",
    "plt.legend()\n",
    "plt.show()"
   ]
  },
  {
   "cell_type": "code",
   "execution_count": 28,
   "metadata": {},
   "outputs": [],
   "source": [
    "\n",
    "#sets the dataset for the next day prediction\n",
    "future = [model_inputs[len(model_inputs) + 1 - last_days:len(model_inputs+1), 0]]\n",
    "future = np.array(future)\n",
    "future = np.reshape(future,(future.shape[0], future.shape[1],1))\n"
   ]
  },
  {
   "cell_type": "code",
   "execution_count": 29,
   "metadata": {},
   "outputs": [
    {
     "name": "stdout",
     "output_type": "stream",
     "text": [
      "WARNING:tensorflow:Model was constructed with shape (None, 60, 1) for input KerasTensor(type_spec=TensorSpec(shape=(None, 60, 1), dtype=tf.float32, name='lstm_input'), name='lstm_input', description=\"created by layer 'lstm_input'\"), but it was called on an input with incompatible shape (None, 59, 1).\n",
      "The Prediction for tomorrow for spy :[[384.8139]]\n"
     ]
    }
   ],
   "source": [
    "#produces the prediction\n",
    "prediction = model.predict(future)\n",
    "prediction = scaler.inverse_transform(prediction)\n",
    "#prints prediction\n",
    "print(f\"The Prediction for tomorrow for {company} :{prediction}\")"
   ]
  },
  {
   "cell_type": "code",
   "execution_count": null,
   "metadata": {},
   "outputs": [],
   "source": []
  },
  {
   "cell_type": "code",
   "execution_count": null,
   "metadata": {},
   "outputs": [],
   "source": []
  },
  {
   "cell_type": "code",
   "execution_count": null,
   "metadata": {},
   "outputs": [],
   "source": []
  },
  {
   "cell_type": "code",
   "execution_count": null,
   "metadata": {},
   "outputs": [],
   "source": []
  },
  {
   "cell_type": "code",
   "execution_count": null,
   "metadata": {},
   "outputs": [],
   "source": []
  },
  {
   "cell_type": "code",
   "execution_count": null,
   "metadata": {},
   "outputs": [],
   "source": []
  },
  {
   "cell_type": "code",
   "execution_count": null,
   "metadata": {},
   "outputs": [],
   "source": []
  }
 ],
 "metadata": {
  "kernelspec": {
   "display_name": "Python 3",
   "language": "python",
   "name": "python3"
  },
  "language_info": {
   "codemirror_mode": {
    "name": "ipython",
    "version": 3
   },
   "file_extension": ".py",
   "mimetype": "text/x-python",
   "name": "python",
   "nbconvert_exporter": "python",
   "pygments_lexer": "ipython3",
   "version": "3.8.3"
  }
 },
 "nbformat": 4,
 "nbformat_minor": 4
}
